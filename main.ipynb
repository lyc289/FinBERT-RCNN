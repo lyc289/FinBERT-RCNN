{
 "cells": [
  {
   "cell_type": "code",
   "execution_count": 4,
   "metadata": {},
   "outputs": [],
   "source": [
    "import time\n",
    "import torch\n",
    "import numpy as np\n",
    "from train import train\n",
    "from importlib import import_module\n",
    "from utils import build_dataset, build_iterator, get_time_dif"
   ]
  },
  {
   "cell_type": "code",
   "execution_count": 5,
   "metadata": {},
   "outputs": [],
   "source": [
    "dataset = '/home/liuyichen/workspace/work/dataset/FinancialPhraseBank-v1.0/Sentences_AllAgree.txt'  \n",
    "x = import_module('model')\n",
    "config = x.Config(dataset)\n",
    "np.random.seed(1)\n",
    "torch.manual_seed(1)\n",
    "torch.cuda.manual_seed_all(1)\n",
    "torch.backends.cudnn.deterministic = True  # 保证每次结果一样"
   ]
  },
  {
   "cell_type": "code",
   "execution_count": 3,
   "metadata": {},
   "outputs": [
    {
     "name": "stdout",
     "output_type": "stream",
     "text": [
      "Loading data...\n"
     ]
    },
    {
     "name": "stderr",
     "output_type": "stream",
     "text": [
      "5717it [00:02, 2041.01it/s]"
     ]
    },
    {
     "name": "stdout",
     "output_type": "stream",
     "text": [
      "Time usage: 0:00:03\n"
     ]
    },
    {
     "name": "stderr",
     "output_type": "stream",
     "text": [
      "\n"
     ]
    }
   ],
   "source": [
    "start_time = time.time()\n",
    "print(\"Loading data...\")\n",
    "train_data, dev_data, test_data = build_dataset(config)\n",
    "train_iter = build_iterator(train_data, config)\n",
    "dev_iter = build_iterator(dev_data, config)\n",
    "test_iter = build_iterator(test_data, config)\n",
    "time_dif = get_time_dif(start_time)\n",
    "print(\"Time usage:\", time_dif)"
   ]
  },
  {
   "cell_type": "markdown",
   "metadata": {},
   "source": [
    "# FinBERT+RCNN"
   ]
  },
  {
   "cell_type": "code",
   "execution_count": 4,
   "metadata": {},
   "outputs": [
    {
     "name": "stdout",
     "output_type": "stream",
     "text": [
      "Training model...\n"
     ]
    },
    {
     "name": "stderr",
     "output_type": "stream",
     "text": [
      "/home/liuyichen/miniconda3/envs/py39/lib/python3.9/site-packages/transformers/optimization.py:591: FutureWarning: This implementation of AdamW is deprecated and will be removed in a future version. Use the PyTorch implementation torch.optim.AdamW instead, or set `no_deprecation_warning=True` to disable this warning\n",
      "  warnings.warn(\n"
     ]
    },
    {
     "name": "stdout",
     "output_type": "stream",
     "text": [
      "Epoch [1/3]\n",
      "Iter:      0,  Train Loss:  0.93,  Train Acc: 61.72%,  Val Loss:  0.95,  Val Acc: 61.52%,  Time: 0:00:01 *\n",
      "Epoch [2/3]\n",
      "Epoch [3/3]\n",
      "Iter:    100,  Train Loss: 0.092,  Train Acc: 96.88%,  Val Loss:  0.11,  Val Acc: 95.70%,  Time: 0:00:20 *\n"
     ]
    },
    {
     "name": "stderr",
     "output_type": "stream",
     "text": [
      "/home/liuyichen/workspace/work/train.py:100: FutureWarning: You are using `torch.load` with `weights_only=False` (the current default value), which uses the default pickle module implicitly. It is possible to construct malicious pickle data which will execute arbitrary code during unpickling (See https://github.com/pytorch/pytorch/blob/main/SECURITY.md#untrusted-models for more details). In a future release, the default value for `weights_only` will be flipped to `True`. This limits the functions that could be executed during unpickling. Arbitrary objects will no longer be allowed to be loaded via this mode unless they are explicitly allowlisted by the user via `torch.serialization.add_safe_globals`. We recommend you start setting `weights_only=True` for any use case where you don't have full control of the loaded file. Please open an issue on GitHub for any issues related to this experimental feature.\n",
      "  model.load_state_dict(torch.load(config.save_path))\n"
     ]
    },
    {
     "name": "stdout",
     "output_type": "stream",
     "text": [
      "Test Loss:  0.14,  Test Acc: 95.12%\n",
      "Precision, Recall and F1-Score...\n",
      "              precision    recall  f1-score   support\n",
      "\n",
      "    positive     0.9600    0.9781    0.9689       319\n",
      "    negative     0.9590    0.8931    0.9249       131\n",
      "     neutral     0.8923    0.9355    0.9134        62\n",
      "\n",
      "    accuracy                         0.9512       512\n",
      "   macro avg     0.9371    0.9356    0.9357       512\n",
      "weighted avg     0.9516    0.9512    0.9509       512\n",
      "\n",
      "Confusion Matrix...\n",
      "[[312   4   3]\n",
      " [ 10 117   4]\n",
      " [  3   1  58]]\n",
      "Time usage: 0:00:00\n"
     ]
    }
   ],
   "source": [
    "print(\"Training model...\")\n",
    "model = x.Model(config).to(config.device)\n",
    "train(config, model, train_iter, dev_iter, test_iter)"
   ]
  },
  {
   "cell_type": "markdown",
   "metadata": {},
   "source": [
    "# ONLY FinBERT"
   ]
  },
  {
   "cell_type": "code",
   "execution_count": 6,
   "metadata": {},
   "outputs": [],
   "source": [
    "from train import test\n",
    "from utils import dataset_for_bert, evaluate_pipeline\n",
    "from transformers import BertTokenizer, BertForSequenceClassification, pipeline\n",
    "senti_finbert = BertForSequenceClassification.from_pretrained(pretrained_model_name_or_path='/home/liuyichen/finbert-tone',num_labels=3)\n",
    "senti_tokenizer = BertTokenizer.from_pretrained('/home/liuyichen/finbert-tone')\n",
    "senti_nlp = pipeline(\"text-classification\", model=senti_finbert, tokenizer=senti_tokenizer, device=0)"
   ]
  },
  {
   "cell_type": "code",
   "execution_count": 7,
   "metadata": {},
   "outputs": [],
   "source": [
    "testdata_for_bert = dataset_for_bert(config)"
   ]
  },
  {
   "cell_type": "code",
   "execution_count": 8,
   "metadata": {},
   "outputs": [
    {
     "name": "stderr",
     "output_type": "stream",
     "text": [
      "You seem to be using the pipelines sequentially on GPU. In order to maximize efficiency please use a dataset\n"
     ]
    },
    {
     "data": {
      "text/plain": [
       "0.8934755990904321"
      ]
     },
     "execution_count": 8,
     "metadata": {},
     "output_type": "execute_result"
    }
   ],
   "source": [
    "evaluate_pipeline(senti_nlp, testdata_for_bert)"
   ]
  },
  {
   "cell_type": "code",
   "execution_count": null,
   "metadata": {},
   "outputs": [],
   "source": []
  }
 ],
 "metadata": {
  "kernelspec": {
   "display_name": "py39",
   "language": "python",
   "name": "python3"
  },
  "language_info": {
   "codemirror_mode": {
    "name": "ipython",
    "version": 3
   },
   "file_extension": ".py",
   "mimetype": "text/x-python",
   "name": "python",
   "nbconvert_exporter": "python",
   "pygments_lexer": "ipython3",
   "version": "3.9.20"
  }
 },
 "nbformat": 4,
 "nbformat_minor": 2
}
