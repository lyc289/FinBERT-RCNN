{
 "cells": [
  {
   "cell_type": "code",
   "execution_count": 4,
   "metadata": {},
   "outputs": [],
   "source": [
    "from transformers import BertTokenizer, BertForSequenceClassification, pipeline\n",
    "\n",
    "senti_finbert = BertForSequenceClassification.from_pretrained(pretrained_model_name_or_path='/home/liuyichen/finbert-tone',num_labels=3)\n",
    "senti_tokenizer = BertTokenizer.from_pretrained('/home/liuyichen/finbert-tone')\n",
    "senti_nlp = pipeline(\"text-classification\", model=senti_finbert, tokenizer=senti_tokenizer, device=0)"
   ]
  },
  {
   "cell_type": "code",
   "execution_count": 5,
   "metadata": {},
   "outputs": [
    {
     "data": {
      "text/plain": [
       "[{'label': 'Positive', 'score': 1.0},\n",
       " {'label': 'Negative', 'score': 0.9952379465103149},\n",
       " {'label': 'Neutral', 'score': 0.9979718327522278}]"
      ]
     },
     "execution_count": 5,
     "metadata": {},
     "output_type": "execute_result"
    }
   ],
   "source": [
    "# 待分析的文本数据\n",
    "senti_results = senti_nlp(['growth is strong and we have plenty of liquidity.', \n",
    "                           'there is a shortage of capital, and we need extra financing.',\n",
    "                           'formulation patents might protect Vasotec to a limited extent.'])\n",
    "senti_results#LABEL_0: neutral; LABEL_1: positive; LABEL_2: negative"
   ]
  },
  {
   "cell_type": "code",
   "execution_count": null,
   "metadata": {},
   "outputs": [],
   "source": []
  }
 ],
 "metadata": {
  "kernelspec": {
   "display_name": "py39",
   "language": "python",
   "name": "python3"
  },
  "language_info": {
   "codemirror_mode": {
    "name": "ipython",
    "version": 3
   },
   "file_extension": ".py",
   "mimetype": "text/x-python",
   "name": "python",
   "nbconvert_exporter": "python",
   "pygments_lexer": "ipython3",
   "version": "3.9.20"
  }
 },
 "nbformat": 4,
 "nbformat_minor": 2
}
